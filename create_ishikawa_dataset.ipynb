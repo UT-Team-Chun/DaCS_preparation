{
 "cells": [
  {
   "cell_type": "code",
   "execution_count": 1,
   "metadata": {},
   "outputs": [],
   "source": [
    "import os\n",
    "import pandas as pd\n",
    "import uuid\n",
    "from utils import xroad"
   ]
  },
  {
   "cell_type": "code",
   "execution_count": 2,
   "metadata": {},
   "outputs": [],
   "source": [
    "dacs_dataset_dir = './outputs/ishikawa_dacs_dataset'\n",
    "if not os.path.exists(dacs_dataset_dir):\n",
    "    os.makedirs(dacs_dataset_dir)"
   ]
  },
  {
   "cell_type": "code",
   "execution_count": 3,
   "metadata": {},
   "outputs": [],
   "source": [
    "prefecture_name = '石川'\n",
    "office_name = '金沢河川国道'\n",
    "fetch_limit = 200\n",
    "\n",
    "bridge_locs = {}\n",
    "\n",
    "for year in range(2019,2024):  # 5年分 (tenken/report の項目ラベルがが2019年度以降違うので2019以降で)\n",
    "    url = f'https://road-structures-db-bridge.mlit.go.jp/xROAD/api/v1/bridges/tenken/list/{year}'\n",
    "    params = {\n",
    "            \"querys\":[\n",
    "                {\n",
    "                    \"key\": \"start_addr\",\n",
    "                    \"value\": prefecture_name,\n",
    "                    \"op\": 7\n",
    "                },\n",
    "                {\n",
    "                    \"key\": \"office_value\",\n",
    "                    \"value\": office_name,\n",
    "                    \"op\": 7\n",
    "                }\n",
    "            ],\n",
    "            \"limit\": fetch_limit,\n",
    "            \"offset\": 0\n",
    "            }\n",
    "\n",
    "    response_json = xroad.fetch_by_url(url, params)\n",
    "    bridge_locs[year] = response_json['result']"
   ]
  },
  {
   "cell_type": "code",
   "execution_count": 4,
   "metadata": {},
   "outputs": [],
   "source": [
    "bridge_locs[2019] = bridge_locs[2019][0:10]  # 画像取得に時間がかかるので、動作試験用に10件のみ取得（すべて取得したい場合にはこの行は無視）"
   ]
  },
  {
   "cell_type": "code",
   "execution_count": 5,
   "metadata": {},
   "outputs": [],
   "source": [
    "# 損傷図の名称を取得\n",
    "img_names = {}\n",
    "for year, locs in bridge_locs.items():\n",
    "    for loc in locs:\n",
    "        url_obtaining_names = f'https://road-structures-db-bridge.mlit.go.jp/xROAD/api/v1/bridges/tenken/report/{year}/{loc}/9/'  # 2004年以降　その9\n",
    "        response_json = xroad.fetch_by_url(url_obtaining_names)\n",
    "        names_in_diams = response_json['result'][0]['c9']\n",
    "        img_names[loc] = names_in_diams"
   ]
  },
  {
   "cell_type": "code",
   "execution_count": 6,
   "metadata": {},
   "outputs": [],
   "source": [
    "# データフレームの作成\n",
    "root_ja_df = pd.DataFrame(columns=[\"data_id\", \"title\", \"summary\", \"point\", \"archive_file\"])\n",
    "files_ja_df = pd.DataFrame(columns=[\"data_id\", \"file_id\", \"file\"])"
   ]
  },
  {
   "cell_type": "code",
   "execution_count": 7,
   "metadata": {},
   "outputs": [],
   "source": [
    "counter = 0\n",
    "for year, locs in bridge_locs.items():\n",
    "    for loc in locs:\n",
    "        diam_name_dicts = img_names[loc]\n",
    "        lat, lng = loc.split(',')\n",
    "        point = f'(\"{lng}0\",\"{lat}0\")'  # 無理やり一桁増やす\n",
    "        data_id = f'i1_ishikawa_data_{loc}'\n",
    "        for diam_name_dict in diam_name_dicts:\n",
    "            diam = diam_name_dict['diameter']\n",
    "            damage_figs = diam_name_dict['damage_figs']\n",
    "\n",
    "            # dfに記載\n",
    "            root_ja_df.loc[loc] = {\n",
    "                \"data_id\": data_id,\n",
    "                \"title\": loc,\n",
    "                \"summary\":f'diameter: {diam}',\n",
    "                \"point\": point,\n",
    "                \"archive_file\": ''\n",
    "            } \n",
    "\n",
    "            for damage_fig in damage_figs:\n",
    "                # 画像を取得\n",
    "                url_obtaining_img = f'https://road-structures-db-bridge.mlit.go.jp/xROAD/api/v1/bridges/tenken/image/{year}/{loc}/4/{damage_fig}'\n",
    "                content = xroad.fetch_img(url_obtaining_img)\n",
    "                save_img_path = os.path.join(dacs_dataset_dir, data_id, damage_fig)\n",
    "                if not os.path.exists(os.path.join(dacs_dataset_dir, data_id)):\n",
    "                    os.makedirs(os.path.join(dacs_dataset_dir, data_id))\n",
    "                with open(save_img_path, 'wb') as f:\n",
    "                    f.write(content)\n",
    "\n",
    "                # dfに記載\n",
    "                files_ja_df.loc[counter] = {\n",
    "                    \"data_id\": data_id,\n",
    "                    \"file_id\": uuid.uuid4(),\n",
    "                    \"file\": f'{damage_fig}'\n",
    "                }\n",
    "                counter += 1\n"
   ]
  },
  {
   "cell_type": "code",
   "execution_count": 8,
   "metadata": {},
   "outputs": [],
   "source": [
    "# save meta data\n",
    "with pd.ExcelWriter(os.path.join(dacs_dataset_dir, 'meta.xlsx'), engine='openpyxl') as writer:\n",
    "    root_ja_df.to_excel(writer, sheet_name='root_ja', index=False)\n",
    "    files_ja_df.to_excel(writer, sheet_name='files_ja', index=False)"
   ]
  }
 ],
 "metadata": {
  "kernelspec": {
   "display_name": "xroad",
   "language": "python",
   "name": "python3"
  },
  "language_info": {
   "codemirror_mode": {
    "name": "ipython",
    "version": 3
   },
   "file_extension": ".py",
   "mimetype": "text/x-python",
   "name": "python",
   "nbconvert_exporter": "python",
   "pygments_lexer": "ipython3",
   "version": "3.10.10"
  }
 },
 "nbformat": 4,
 "nbformat_minor": 2
}
