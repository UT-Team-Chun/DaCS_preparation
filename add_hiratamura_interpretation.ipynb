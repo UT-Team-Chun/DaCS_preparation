{
 "cells": [
  {
   "cell_type": "code",
   "execution_count": 1,
   "metadata": {},
   "outputs": [],
   "source": [
    "import os\n",
    "import pandas as pd\n",
    "import ast\n",
    "from openai import OpenAI"
   ]
  },
  {
   "cell_type": "code",
   "execution_count": 2,
   "metadata": {},
   "outputs": [
    {
     "data": {
      "text/plain": [
       "True"
      ]
     },
     "execution_count": 2,
     "metadata": {},
     "output_type": "execute_result"
    }
   ],
   "source": [
    "from dotenv import load_dotenv\n",
    "load_dotenv()"
   ]
  },
  {
   "cell_type": "code",
   "execution_count": 3,
   "metadata": {},
   "outputs": [],
   "source": [
    "dacs_dataset_dir = './outputs/hiratamura_dacs_dataset'\n",
    "\n",
    "PROMPT_PATH = './prompts/prompt.txt'\n",
    "GPT_MODEL = 'gpt-4o'"
   ]
  },
  {
   "cell_type": "code",
   "execution_count": 4,
   "metadata": {},
   "outputs": [],
   "source": [
    "# open meta.xlsx\n",
    "with open(os.path.join(dacs_dataset_dir, 'meta.xlsx'), 'rb') as f:\n",
    "    root_ja_df = pd.read_excel(f, sheet_name='root_ja')\n",
    "    files_ja_df = pd.read_excel(f, sheet_name='files_ja')"
   ]
  },
  {
   "cell_type": "code",
   "execution_count": 5,
   "metadata": {},
   "outputs": [
    {
     "data": {
      "text/plain": [
       "data_id                  i1_bridge_excel_0\n",
       "title                          蕨平ボックスカルバート\n",
       "summary                                NaN\n",
       "point           (\"37.174170\",\"140.595280\")\n",
       "archive_file                           NaN\n",
       "Name: 0, dtype: object"
      ]
     },
     "execution_count": 5,
     "metadata": {},
     "output_type": "execute_result"
    }
   ],
   "source": [
    "root_ja_df.iloc[0]"
   ]
  },
  {
   "cell_type": "code",
   "execution_count": 6,
   "metadata": {},
   "outputs": [
    {
     "data": {
      "text/plain": [
       "data_id                       i1_bridge_excel_0\n",
       "file_id    13e37566-60f9-11ef-871a-a08069f5749f\n",
       "file               37.17417,140.59528_2020.xlsx\n",
       "Name: 0, dtype: object"
      ]
     },
     "execution_count": 6,
     "metadata": {},
     "output_type": "execute_result"
    }
   ],
   "source": [
    "files_ja_df.iloc[0]"
   ]
  },
  {
   "cell_type": "markdown",
   "metadata": {},
   "source": [
    "- files_jaに記された77条excelをもとに健全性の判定区分を取得し、root_jaのsummaryを更新"
   ]
  },
  {
   "cell_type": "code",
   "execution_count": 24,
   "metadata": {},
   "outputs": [],
   "source": [
    "def read_77_excel_as_text(file_path):\n",
    "    df = pd.read_excel(file_path, sheet_name=0, engine='openpyxl')  # read the first sheet\n",
    "\n",
    "    text = ''\n",
    "    for index, row in df.iterrows():\n",
    "        for col_name in df.columns:\n",
    "            cell_value = row[col_name]\n",
    "            if not pd.isna(cell_value):  # NaNでない値のみを処理\n",
    "                text += str(cell_value) + '\\n'\n",
    "        text += '\\n'\n",
    "    return text\n",
    "\n",
    "def get_soundness(text, prompt, gpt_model=GPT_MODEL):  # 健全性判定\n",
    "    user_prompt = prompt + text\n",
    "    messages = [\n",
    "        {'role': 'system', 'content': 'You are a bridge structural engineer.'},\n",
    "        {'role': 'user', 'content': user_prompt}\n",
    "    ]\n",
    "\n",
    "    client = OpenAI()\n",
    "    completion = client.chat.completions.create(\n",
    "        model=gpt_model,\n",
    "        response_format={\"type\":\"json_object\"}, \n",
    "        messages=messages,\n",
    "    )\n",
    "    # print(completion.choices[0].message.content)\n",
    "    j = ast.literal_eval(completion.choices[0].message.content)\n",
    "    \n",
    "    return j['hantei_kubun']"
   ]
  },
  {
   "cell_type": "code",
   "execution_count": 25,
   "metadata": {},
   "outputs": [
    {
     "name": "stdout",
     "output_type": "stream",
     "text": [
      "{\"hantei_kubun\": 3}\n",
      "{\"hantei_kubun\": 2 }\n",
      "{\n",
      "  \"hantei_kubun\": 2\n",
      "}\n",
      "{\"hantei_kubun\": 2 }\n",
      "\n",
      "{\n",
      "    \"hantei_kubun\": 2\n",
      "}\n"
     ]
    }
   ],
   "source": [
    "with open(PROMPT_PATH, 'r') as f:\n",
    "    prompt = f.read()\n",
    "\n",
    "for i in range(files_ja_df.shape[0]):\n",
    "    data_id = files_ja_df.iloc[i]['data_id']\n",
    "    file = files_ja_df.iloc[i]['file']\n",
    "    file_path = os.path.join(dacs_dataset_dir, data_id, file)\n",
    "\n",
    "    if not os.path.exists(file_path):\n",
    "        print(f'File not found: {file_path}')\n",
    "        continue\n",
    "\n",
    "    text = read_77_excel_as_text(file_path)\n",
    "    for j in range(10): # gptがエラーを返すことがあるのでリトライ\n",
    "        try:\n",
    "            soundness = get_soundness(text, prompt)\n",
    "            break\n",
    "        except Exception as e:\n",
    "            print(f'Error: {e}')\n",
    "            soundness = 0\n",
    "    else:\n",
    "        print(f'Failed to get soundness: {file_path}')\n",
    "\n",
    "    # arabic to roman number\n",
    "    num_dict = {\n",
    "        '1': 'I',\n",
    "        '2': 'II',\n",
    "        '3': 'III',\n",
    "        '4': 'IV',\n",
    "    }\n",
    "    if soundness in range(1, 5):\n",
    "        soundness = num_dict[str(soundness)]\n",
    "        root_ja_df.loc[root_ja_df['data_id'] == data_id, 'summary'] = f'判定区分: {soundness}'\n",
    "    else:\n",
    "        root_ja_df.loc[root_ja_df['data_id'] == data_id]['summary'] = '判定区分: 不明/エラー'"
   ]
  },
  {
   "cell_type": "code",
   "execution_count": 27,
   "metadata": {},
   "outputs": [],
   "source": [
    "# update meta.xlsx\n",
    "# 試験用に別ファイル(updated_meta.xlsx)に保存することとする\n",
    "with pd.ExcelWriter(os.path.join(dacs_dataset_dir, 'updated_meta.xlsx'), engine='openpyxl') as writer:\n",
    "    root_ja_df.to_excel(writer, sheet_name='root_ja', index=False)\n",
    "    files_ja_df.to_excel(writer, sheet_name='files_ja', index=False)"
   ]
  },
  {
   "cell_type": "code",
   "execution_count": null,
   "metadata": {},
   "outputs": [],
   "source": []
  }
 ],
 "metadata": {
  "kernelspec": {
   "display_name": "xroad",
   "language": "python",
   "name": "python3"
  },
  "language_info": {
   "codemirror_mode": {
    "name": "ipython",
    "version": 3
   },
   "file_extension": ".py",
   "mimetype": "text/x-python",
   "name": "python",
   "nbconvert_exporter": "python",
   "pygments_lexer": "ipython3",
   "version": "3.10.10"
  }
 },
 "nbformat": 4,
 "nbformat_minor": 2
}
